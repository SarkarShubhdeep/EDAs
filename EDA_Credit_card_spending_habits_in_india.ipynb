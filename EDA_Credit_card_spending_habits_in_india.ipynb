{
 "cells": [
  {
   "cell_type": "code",
   "execution_count": 1,
   "id": "3e438eee",
   "metadata": {
    "_cell_guid": "b1076dfc-b9ad-4769-8c92-a6c4dae69d19",
    "_uuid": "8f2839f25d086af736a60e9eeb907d3b93b6e0e5",
    "execution": {
     "iopub.execute_input": "2022-12-31T07:09:17.637318Z",
     "iopub.status.busy": "2022-12-31T07:09:17.636789Z",
     "iopub.status.idle": "2022-12-31T07:09:17.655811Z",
     "shell.execute_reply": "2022-12-31T07:09:17.654861Z"
    },
    "papermill": {
     "duration": 0.035193,
     "end_time": "2022-12-31T07:09:17.658496",
     "exception": false,
     "start_time": "2022-12-31T07:09:17.623303",
     "status": "completed"
    },
    "tags": []
   },
   "outputs": [
    {
     "name": "stdout",
     "output_type": "stream",
     "text": [
      "/kaggle/input/analyzing-credit-card-spending-habits-in-india/Credit card transactions - India - Simple.csv\n"
     ]
    }
   ],
   "source": [
    "# This Python 3 environment comes with many helpful analytics libraries installed\n",
    "# It is defined by the kaggle/python Docker image: https://github.com/kaggle/docker-python\n",
    "# For example, here's several helpful packages to load\n",
    "\n",
    "import numpy as np # linear algebra\n",
    "import pandas as pd # data processing, CSV file I/O (e.g. pd.read_csv)\n",
    "\n",
    "# Input data files are available in the read-only \"../input/\" directory\n",
    "# For example, running this (by clicking run or pressing Shift+Enter) will list all files under the input directory\n",
    "\n",
    "import os\n",
    "for dirname, _, filenames in os.walk('/kaggle/input'):\n",
    "    for filename in filenames:\n",
    "        print(os.path.join(dirname, filename))\n",
    "\n",
    "# You can write up to 20GB to the current directory (/kaggle/working/) that gets preserved as output when you create a version using \"Save & Run All\" \n",
    "# You can also write temporary files to /kaggle/temp/, but they won't be saved outside of the current session"
   ]
  },
  {
   "cell_type": "code",
   "execution_count": 2,
   "id": "360fb450",
   "metadata": {
    "execution": {
     "iopub.execute_input": "2022-12-31T07:09:17.683470Z",
     "iopub.status.busy": "2022-12-31T07:09:17.683016Z",
     "iopub.status.idle": "2022-12-31T07:09:17.807689Z",
     "shell.execute_reply": "2022-12-31T07:09:17.805427Z"
    },
    "papermill": {
     "duration": 0.141624,
     "end_time": "2022-12-31T07:09:17.811023",
     "exception": false,
     "start_time": "2022-12-31T07:09:17.669399",
     "status": "completed"
    },
    "tags": []
   },
   "outputs": [],
   "source": [
    "df = pd.read_csv('/kaggle/input/analyzing-credit-card-spending-habits-in-india/Credit card transactions - India - Simple.csv', parse_dates=['Date'])"
   ]
  },
  {
   "cell_type": "markdown",
   "id": "46745c57",
   "metadata": {
    "execution": {
     "iopub.execute_input": "2022-12-23T13:03:45.333461Z",
     "iopub.status.busy": "2022-12-23T13:03:45.333042Z",
     "iopub.status.idle": "2022-12-23T13:03:45.382881Z",
     "shell.execute_reply": "2022-12-23T13:03:45.380822Z",
     "shell.execute_reply.started": "2022-12-23T13:03:45.333428Z"
    },
    "papermill": {
     "duration": 0.01035,
     "end_time": "2022-12-31T07:09:17.832380",
     "exception": false,
     "start_time": "2022-12-31T07:09:17.822030",
     "status": "completed"
    },
    "tags": []
   },
   "source": [
    "# Understanding the data"
   ]
  },
  {
   "cell_type": "code",
   "execution_count": 3,
   "id": "e66209cc",
   "metadata": {
    "execution": {
     "iopub.execute_input": "2022-12-31T07:09:17.855182Z",
     "iopub.status.busy": "2022-12-31T07:09:17.854742Z",
     "iopub.status.idle": "2022-12-31T07:09:17.881947Z",
     "shell.execute_reply": "2022-12-31T07:09:17.879776Z"
    },
    "papermill": {
     "duration": 0.042865,
     "end_time": "2022-12-31T07:09:17.885495",
     "exception": false,
     "start_time": "2022-12-31T07:09:17.842630",
     "status": "completed"
    },
    "tags": []
   },
   "outputs": [
    {
     "data": {
      "text/html": [
       "<div>\n",
       "<style scoped>\n",
       "    .dataframe tbody tr th:only-of-type {\n",
       "        vertical-align: middle;\n",
       "    }\n",
       "\n",
       "    .dataframe tbody tr th {\n",
       "        vertical-align: top;\n",
       "    }\n",
       "\n",
       "    .dataframe thead th {\n",
       "        text-align: right;\n",
       "    }\n",
       "</style>\n",
       "<table border=\"1\" class=\"dataframe\">\n",
       "  <thead>\n",
       "    <tr style=\"text-align: right;\">\n",
       "      <th></th>\n",
       "      <th>index</th>\n",
       "      <th>City</th>\n",
       "      <th>Date</th>\n",
       "      <th>Card Type</th>\n",
       "      <th>Exp Type</th>\n",
       "      <th>Gender</th>\n",
       "      <th>Amount</th>\n",
       "    </tr>\n",
       "  </thead>\n",
       "  <tbody>\n",
       "    <tr>\n",
       "      <th>0</th>\n",
       "      <td>0</td>\n",
       "      <td>Delhi, India</td>\n",
       "      <td>2014-10-29</td>\n",
       "      <td>Gold</td>\n",
       "      <td>Bills</td>\n",
       "      <td>F</td>\n",
       "      <td>82475</td>\n",
       "    </tr>\n",
       "    <tr>\n",
       "      <th>1</th>\n",
       "      <td>1</td>\n",
       "      <td>Greater Mumbai, India</td>\n",
       "      <td>2014-08-22</td>\n",
       "      <td>Platinum</td>\n",
       "      <td>Bills</td>\n",
       "      <td>F</td>\n",
       "      <td>32555</td>\n",
       "    </tr>\n",
       "    <tr>\n",
       "      <th>2</th>\n",
       "      <td>2</td>\n",
       "      <td>Bengaluru, India</td>\n",
       "      <td>2014-08-27</td>\n",
       "      <td>Silver</td>\n",
       "      <td>Bills</td>\n",
       "      <td>F</td>\n",
       "      <td>101738</td>\n",
       "    </tr>\n",
       "    <tr>\n",
       "      <th>3</th>\n",
       "      <td>3</td>\n",
       "      <td>Greater Mumbai, India</td>\n",
       "      <td>2014-04-12</td>\n",
       "      <td>Signature</td>\n",
       "      <td>Bills</td>\n",
       "      <td>F</td>\n",
       "      <td>123424</td>\n",
       "    </tr>\n",
       "    <tr>\n",
       "      <th>4</th>\n",
       "      <td>4</td>\n",
       "      <td>Bengaluru, India</td>\n",
       "      <td>2015-05-05</td>\n",
       "      <td>Gold</td>\n",
       "      <td>Bills</td>\n",
       "      <td>F</td>\n",
       "      <td>171574</td>\n",
       "    </tr>\n",
       "  </tbody>\n",
       "</table>\n",
       "</div>"
      ],
      "text/plain": [
       "   index                   City       Date  Card Type Exp Type Gender  Amount\n",
       "0      0           Delhi, India 2014-10-29       Gold    Bills      F   82475\n",
       "1      1  Greater Mumbai, India 2014-08-22   Platinum    Bills      F   32555\n",
       "2      2       Bengaluru, India 2014-08-27     Silver    Bills      F  101738\n",
       "3      3  Greater Mumbai, India 2014-04-12  Signature    Bills      F  123424\n",
       "4      4       Bengaluru, India 2015-05-05       Gold    Bills      F  171574"
      ]
     },
     "execution_count": 3,
     "metadata": {},
     "output_type": "execute_result"
    }
   ],
   "source": [
    "df.head()"
   ]
  },
  {
   "cell_type": "code",
   "execution_count": 4,
   "id": "2fbe0912",
   "metadata": {
    "execution": {
     "iopub.execute_input": "2022-12-31T07:09:17.907789Z",
     "iopub.status.busy": "2022-12-31T07:09:17.907356Z",
     "iopub.status.idle": "2022-12-31T07:09:17.916949Z",
     "shell.execute_reply": "2022-12-31T07:09:17.915711Z"
    },
    "papermill": {
     "duration": 0.024387,
     "end_time": "2022-12-31T07:09:17.920310",
     "exception": false,
     "start_time": "2022-12-31T07:09:17.895923",
     "status": "completed"
    },
    "tags": []
   },
   "outputs": [
    {
     "data": {
      "text/plain": [
       "(26052, 7)"
      ]
     },
     "execution_count": 4,
     "metadata": {},
     "output_type": "execute_result"
    }
   ],
   "source": [
    "df.shape"
   ]
  },
  {
   "cell_type": "code",
   "execution_count": 5,
   "id": "de3efca8",
   "metadata": {
    "execution": {
     "iopub.execute_input": "2022-12-31T07:09:17.942886Z",
     "iopub.status.busy": "2022-12-31T07:09:17.942526Z",
     "iopub.status.idle": "2022-12-31T07:09:17.967799Z",
     "shell.execute_reply": "2022-12-31T07:09:17.966457Z"
    },
    "papermill": {
     "duration": 0.039627,
     "end_time": "2022-12-31T07:09:17.970442",
     "exception": false,
     "start_time": "2022-12-31T07:09:17.930815",
     "status": "completed"
    },
    "tags": []
   },
   "outputs": [
    {
     "name": "stdout",
     "output_type": "stream",
     "text": [
      "<class 'pandas.core.frame.DataFrame'>\n",
      "RangeIndex: 26052 entries, 0 to 26051\n",
      "Data columns (total 7 columns):\n",
      " #   Column     Non-Null Count  Dtype         \n",
      "---  ------     --------------  -----         \n",
      " 0   index      26052 non-null  int64         \n",
      " 1   City       26052 non-null  object        \n",
      " 2   Date       26052 non-null  datetime64[ns]\n",
      " 3   Card Type  26052 non-null  object        \n",
      " 4   Exp Type   26052 non-null  object        \n",
      " 5   Gender     26052 non-null  object        \n",
      " 6   Amount     26052 non-null  int64         \n",
      "dtypes: datetime64[ns](1), int64(2), object(4)\n",
      "memory usage: 1.4+ MB\n"
     ]
    }
   ],
   "source": [
    "df.info()"
   ]
  },
  {
   "cell_type": "code",
   "execution_count": 6,
   "id": "ac8c06b4",
   "metadata": {
    "execution": {
     "iopub.execute_input": "2022-12-31T07:09:17.994910Z",
     "iopub.status.busy": "2022-12-31T07:09:17.994532Z",
     "iopub.status.idle": "2022-12-31T07:09:18.017314Z",
     "shell.execute_reply": "2022-12-31T07:09:18.016204Z"
    },
    "papermill": {
     "duration": 0.037986,
     "end_time": "2022-12-31T07:09:18.019407",
     "exception": false,
     "start_time": "2022-12-31T07:09:17.981421",
     "status": "completed"
    },
    "tags": []
   },
   "outputs": [
    {
     "data": {
      "text/plain": [
       "index        26052\n",
       "City           986\n",
       "Date           600\n",
       "Card Type        4\n",
       "Exp Type         6\n",
       "Gender           2\n",
       "Amount       24972\n",
       "dtype: int64"
      ]
     },
     "execution_count": 6,
     "metadata": {},
     "output_type": "execute_result"
    }
   ],
   "source": [
    "df.nunique()"
   ]
  },
  {
   "cell_type": "code",
   "execution_count": 7,
   "id": "988ebfdc",
   "metadata": {
    "execution": {
     "iopub.execute_input": "2022-12-31T07:09:18.041260Z",
     "iopub.status.busy": "2022-12-31T07:09:18.040883Z",
     "iopub.status.idle": "2022-12-31T07:09:18.064561Z",
     "shell.execute_reply": "2022-12-31T07:09:18.062520Z"
    },
    "papermill": {
     "duration": 0.037789,
     "end_time": "2022-12-31T07:09:18.067224",
     "exception": false,
     "start_time": "2022-12-31T07:09:18.029435",
     "status": "completed"
    },
    "tags": []
   },
   "outputs": [
    {
     "name": "stdout",
     "output_type": "stream",
     "text": [
      "Date ranges from 2013-10-04 to 2015-05-26\n"
     ]
    }
   ],
   "source": [
    "print(f\"Date ranges from {df.Date.dt.date.min()} to {df.Date.dt.date.max()}\")"
   ]
  },
  {
   "cell_type": "markdown",
   "id": "8a75a624",
   "metadata": {
    "papermill": {
     "duration": 0.009603,
     "end_time": "2022-12-31T07:09:18.087247",
     "exception": false,
     "start_time": "2022-12-31T07:09:18.077644",
     "status": "completed"
    },
    "tags": []
   },
   "source": [
    "---\n",
    "# Data Cleaning"
   ]
  },
  {
   "cell_type": "markdown",
   "id": "34efb044",
   "metadata": {
    "papermill": {
     "duration": 0.01017,
     "end_time": "2022-12-31T07:09:18.107428",
     "exception": false,
     "start_time": "2022-12-31T07:09:18.097258",
     "status": "completed"
    },
    "tags": []
   },
   "source": [
    "## 1. Missing value treatment"
   ]
  },
  {
   "cell_type": "code",
   "execution_count": 8,
   "id": "6cbefc3d",
   "metadata": {
    "execution": {
     "iopub.execute_input": "2022-12-31T07:09:18.131623Z",
     "iopub.status.busy": "2022-12-31T07:09:18.130766Z",
     "iopub.status.idle": "2022-12-31T07:09:18.146333Z",
     "shell.execute_reply": "2022-12-31T07:09:18.144210Z"
    },
    "papermill": {
     "duration": 0.0306,
     "end_time": "2022-12-31T07:09:18.148933",
     "exception": false,
     "start_time": "2022-12-31T07:09:18.118333",
     "status": "completed"
    },
    "tags": []
   },
   "outputs": [
    {
     "data": {
      "text/plain": [
       "index        0\n",
       "City         0\n",
       "Date         0\n",
       "Card Type    0\n",
       "Exp Type     0\n",
       "Gender       0\n",
       "Amount       0\n",
       "dtype: int64"
      ]
     },
     "execution_count": 8,
     "metadata": {},
     "output_type": "execute_result"
    }
   ],
   "source": [
    "df.isna().sum()"
   ]
  },
  {
   "cell_type": "markdown",
   "id": "29b48e04",
   "metadata": {
    "papermill": {
     "duration": 0.009866,
     "end_time": "2022-12-31T07:09:18.169952",
     "exception": false,
     "start_time": "2022-12-31T07:09:18.160086",
     "status": "completed"
    },
    "tags": []
   },
   "source": [
    "## 2. Checking for duplicate rows"
   ]
  },
  {
   "cell_type": "code",
   "execution_count": 9,
   "id": "99d7e91c",
   "metadata": {
    "execution": {
     "iopub.execute_input": "2022-12-31T07:09:18.193139Z",
     "iopub.status.busy": "2022-12-31T07:09:18.192111Z",
     "iopub.status.idle": "2022-12-31T07:09:18.216479Z",
     "shell.execute_reply": "2022-12-31T07:09:18.215609Z"
    },
    "papermill": {
     "duration": 0.038639,
     "end_time": "2022-12-31T07:09:18.218870",
     "exception": false,
     "start_time": "2022-12-31T07:09:18.180231",
     "status": "completed"
    },
    "tags": []
   },
   "outputs": [
    {
     "data": {
      "text/plain": [
       "0"
      ]
     },
     "execution_count": 9,
     "metadata": {},
     "output_type": "execute_result"
    }
   ],
   "source": [
    "df.duplicated().sum()"
   ]
  },
  {
   "cell_type": "markdown",
   "id": "447ad950",
   "metadata": {
    "papermill": {
     "duration": 0.009598,
     "end_time": "2022-12-31T07:09:18.238630",
     "exception": false,
     "start_time": "2022-12-31T07:09:18.229032",
     "status": "completed"
    },
    "tags": []
   },
   "source": [
    "*No missing values and no duplicate rows. Looks like the dataset is already cleaned.*"
   ]
  },
  {
   "cell_type": "markdown",
   "id": "698cc53c",
   "metadata": {
    "execution": {
     "iopub.execute_input": "2022-12-23T13:48:23.249568Z",
     "iopub.status.busy": "2022-12-23T13:48:23.249228Z",
     "iopub.status.idle": "2022-12-23T13:48:23.253643Z",
     "shell.execute_reply": "2022-12-23T13:48:23.252466Z",
     "shell.execute_reply.started": "2022-12-23T13:48:23.249538Z"
    },
    "papermill": {
     "duration": 0.009758,
     "end_time": "2022-12-31T07:09:18.258485",
     "exception": false,
     "start_time": "2022-12-31T07:09:18.248727",
     "status": "completed"
    },
    "tags": []
   },
   "source": [
    "## 3. Dropping index column"
   ]
  },
  {
   "cell_type": "code",
   "execution_count": 10,
   "id": "c4f217b0",
   "metadata": {
    "execution": {
     "iopub.execute_input": "2022-12-31T07:09:18.280793Z",
     "iopub.status.busy": "2022-12-31T07:09:18.280469Z",
     "iopub.status.idle": "2022-12-31T07:09:18.288034Z",
     "shell.execute_reply": "2022-12-31T07:09:18.286606Z"
    },
    "papermill": {
     "duration": 0.021858,
     "end_time": "2022-12-31T07:09:18.290607",
     "exception": false,
     "start_time": "2022-12-31T07:09:18.268749",
     "status": "completed"
    },
    "tags": []
   },
   "outputs": [],
   "source": [
    "df.drop('index', axis=1, inplace=True)"
   ]
  },
  {
   "cell_type": "markdown",
   "id": "238bbfac",
   "metadata": {
    "papermill": {
     "duration": 0.010275,
     "end_time": "2022-12-31T07:09:18.311420",
     "exception": false,
     "start_time": "2022-12-31T07:09:18.301145",
     "status": "completed"
    },
    "tags": []
   },
   "source": [
    "## 4. Reformatting City column"
   ]
  },
  {
   "cell_type": "code",
   "execution_count": 11,
   "id": "2d02e575",
   "metadata": {
    "execution": {
     "iopub.execute_input": "2022-12-31T07:09:18.336023Z",
     "iopub.status.busy": "2022-12-31T07:09:18.334269Z",
     "iopub.status.idle": "2022-12-31T07:09:18.354198Z",
     "shell.execute_reply": "2022-12-31T07:09:18.352681Z"
    },
    "papermill": {
     "duration": 0.035748,
     "end_time": "2022-12-31T07:09:18.357738",
     "exception": false,
     "start_time": "2022-12-31T07:09:18.321990",
     "status": "completed"
    },
    "tags": []
   },
   "outputs": [],
   "source": [
    "def city_name(x):\n",
    "    return x.split(',')[0]\n",
    "\n",
    "df.City = df.City.apply(city_name)"
   ]
  },
  {
   "cell_type": "code",
   "execution_count": 12,
   "id": "ec323d26",
   "metadata": {
    "execution": {
     "iopub.execute_input": "2022-12-31T07:09:18.384490Z",
     "iopub.status.busy": "2022-12-31T07:09:18.382702Z",
     "iopub.status.idle": "2022-12-31T07:09:18.397358Z",
     "shell.execute_reply": "2022-12-31T07:09:18.396276Z"
    },
    "papermill": {
     "duration": 0.02994,
     "end_time": "2022-12-31T07:09:18.399387",
     "exception": false,
     "start_time": "2022-12-31T07:09:18.369447",
     "status": "completed"
    },
    "tags": []
   },
   "outputs": [
    {
     "data": {
      "text/html": [
       "<div>\n",
       "<style scoped>\n",
       "    .dataframe tbody tr th:only-of-type {\n",
       "        vertical-align: middle;\n",
       "    }\n",
       "\n",
       "    .dataframe tbody tr th {\n",
       "        vertical-align: top;\n",
       "    }\n",
       "\n",
       "    .dataframe thead th {\n",
       "        text-align: right;\n",
       "    }\n",
       "</style>\n",
       "<table border=\"1\" class=\"dataframe\">\n",
       "  <thead>\n",
       "    <tr style=\"text-align: right;\">\n",
       "      <th></th>\n",
       "      <th>City</th>\n",
       "      <th>Date</th>\n",
       "      <th>Card Type</th>\n",
       "      <th>Exp Type</th>\n",
       "      <th>Gender</th>\n",
       "      <th>Amount</th>\n",
       "    </tr>\n",
       "  </thead>\n",
       "  <tbody>\n",
       "    <tr>\n",
       "      <th>0</th>\n",
       "      <td>Delhi</td>\n",
       "      <td>2014-10-29</td>\n",
       "      <td>Gold</td>\n",
       "      <td>Bills</td>\n",
       "      <td>F</td>\n",
       "      <td>82475</td>\n",
       "    </tr>\n",
       "    <tr>\n",
       "      <th>1</th>\n",
       "      <td>Greater Mumbai</td>\n",
       "      <td>2014-08-22</td>\n",
       "      <td>Platinum</td>\n",
       "      <td>Bills</td>\n",
       "      <td>F</td>\n",
       "      <td>32555</td>\n",
       "    </tr>\n",
       "    <tr>\n",
       "      <th>2</th>\n",
       "      <td>Bengaluru</td>\n",
       "      <td>2014-08-27</td>\n",
       "      <td>Silver</td>\n",
       "      <td>Bills</td>\n",
       "      <td>F</td>\n",
       "      <td>101738</td>\n",
       "    </tr>\n",
       "    <tr>\n",
       "      <th>3</th>\n",
       "      <td>Greater Mumbai</td>\n",
       "      <td>2014-04-12</td>\n",
       "      <td>Signature</td>\n",
       "      <td>Bills</td>\n",
       "      <td>F</td>\n",
       "      <td>123424</td>\n",
       "    </tr>\n",
       "    <tr>\n",
       "      <th>4</th>\n",
       "      <td>Bengaluru</td>\n",
       "      <td>2015-05-05</td>\n",
       "      <td>Gold</td>\n",
       "      <td>Bills</td>\n",
       "      <td>F</td>\n",
       "      <td>171574</td>\n",
       "    </tr>\n",
       "  </tbody>\n",
       "</table>\n",
       "</div>"
      ],
      "text/plain": [
       "             City       Date  Card Type Exp Type Gender  Amount\n",
       "0           Delhi 2014-10-29       Gold    Bills      F   82475\n",
       "1  Greater Mumbai 2014-08-22   Platinum    Bills      F   32555\n",
       "2       Bengaluru 2014-08-27     Silver    Bills      F  101738\n",
       "3  Greater Mumbai 2014-04-12  Signature    Bills      F  123424\n",
       "4       Bengaluru 2015-05-05       Gold    Bills      F  171574"
      ]
     },
     "execution_count": 12,
     "metadata": {},
     "output_type": "execute_result"
    }
   ],
   "source": [
    "df.head()"
   ]
  },
  {
   "cell_type": "markdown",
   "id": "aff00fa0",
   "metadata": {
    "papermill": {
     "duration": 0.010636,
     "end_time": "2022-12-31T07:09:18.421264",
     "exception": false,
     "start_time": "2022-12-31T07:09:18.410628",
     "status": "completed"
    },
    "tags": []
   },
   "source": [
    "---\n",
    "# EDA\n",
    "\n",
    "### Exploring data a bit more\n",
    "1. How many cities are present in the dataset?\n",
    "2. What are the different types of card types used by Indian?\n",
    "3. What are the different types of expenditure? \n",
    "4. What is the overall gender distribution?\n",
    "5. What was the minimum and maximum number of transactions recorded in the day?\n",
    "\n",
    "### Analysing spending habits\n",
    "6. Which year saw the maximum and the least number of trasactions?\n",
    "7. Transactions by months for 2013, 2014, and 2015.\n",
    "8. Most used type of card by gender.\n",
    "9. What is the month wise transactions in 2014 for males and females?\n",
    "10. In all years, what was the distribution of transactions by expense type by male and female. \n"
   ]
  },
  {
   "cell_type": "code",
   "execution_count": 13,
   "id": "8f58b8a2",
   "metadata": {
    "execution": {
     "iopub.execute_input": "2022-12-31T07:09:18.447214Z",
     "iopub.status.busy": "2022-12-31T07:09:18.446597Z",
     "iopub.status.idle": "2022-12-31T07:09:18.457786Z",
     "shell.execute_reply": "2022-12-31T07:09:18.456645Z"
    },
    "papermill": {
     "duration": 0.026698,
     "end_time": "2022-12-31T07:09:18.459969",
     "exception": false,
     "start_time": "2022-12-31T07:09:18.433271",
     "status": "completed"
    },
    "tags": []
   },
   "outputs": [
    {
     "data": {
      "text/html": [
       "<div>\n",
       "<style scoped>\n",
       "    .dataframe tbody tr th:only-of-type {\n",
       "        vertical-align: middle;\n",
       "    }\n",
       "\n",
       "    .dataframe tbody tr th {\n",
       "        vertical-align: top;\n",
       "    }\n",
       "\n",
       "    .dataframe thead th {\n",
       "        text-align: right;\n",
       "    }\n",
       "</style>\n",
       "<table border=\"1\" class=\"dataframe\">\n",
       "  <thead>\n",
       "    <tr style=\"text-align: right;\">\n",
       "      <th></th>\n",
       "      <th>City</th>\n",
       "      <th>Date</th>\n",
       "      <th>Card Type</th>\n",
       "      <th>Exp Type</th>\n",
       "      <th>Gender</th>\n",
       "      <th>Amount</th>\n",
       "    </tr>\n",
       "  </thead>\n",
       "  <tbody>\n",
       "    <tr>\n",
       "      <th>0</th>\n",
       "      <td>Delhi</td>\n",
       "      <td>2014-10-29</td>\n",
       "      <td>Gold</td>\n",
       "      <td>Bills</td>\n",
       "      <td>F</td>\n",
       "      <td>82475</td>\n",
       "    </tr>\n",
       "    <tr>\n",
       "      <th>1</th>\n",
       "      <td>Greater Mumbai</td>\n",
       "      <td>2014-08-22</td>\n",
       "      <td>Platinum</td>\n",
       "      <td>Bills</td>\n",
       "      <td>F</td>\n",
       "      <td>32555</td>\n",
       "    </tr>\n",
       "    <tr>\n",
       "      <th>2</th>\n",
       "      <td>Bengaluru</td>\n",
       "      <td>2014-08-27</td>\n",
       "      <td>Silver</td>\n",
       "      <td>Bills</td>\n",
       "      <td>F</td>\n",
       "      <td>101738</td>\n",
       "    </tr>\n",
       "    <tr>\n",
       "      <th>3</th>\n",
       "      <td>Greater Mumbai</td>\n",
       "      <td>2014-04-12</td>\n",
       "      <td>Signature</td>\n",
       "      <td>Bills</td>\n",
       "      <td>F</td>\n",
       "      <td>123424</td>\n",
       "    </tr>\n",
       "    <tr>\n",
       "      <th>4</th>\n",
       "      <td>Bengaluru</td>\n",
       "      <td>2015-05-05</td>\n",
       "      <td>Gold</td>\n",
       "      <td>Bills</td>\n",
       "      <td>F</td>\n",
       "      <td>171574</td>\n",
       "    </tr>\n",
       "  </tbody>\n",
       "</table>\n",
       "</div>"
      ],
      "text/plain": [
       "             City       Date  Card Type Exp Type Gender  Amount\n",
       "0           Delhi 2014-10-29       Gold    Bills      F   82475\n",
       "1  Greater Mumbai 2014-08-22   Platinum    Bills      F   32555\n",
       "2       Bengaluru 2014-08-27     Silver    Bills      F  101738\n",
       "3  Greater Mumbai 2014-04-12  Signature    Bills      F  123424\n",
       "4       Bengaluru 2015-05-05       Gold    Bills      F  171574"
      ]
     },
     "execution_count": 13,
     "metadata": {},
     "output_type": "execute_result"
    }
   ],
   "source": [
    "df.head()"
   ]
  },
  {
   "cell_type": "markdown",
   "id": "c6c942ca",
   "metadata": {
    "execution": {
     "iopub.execute_input": "2022-12-28T12:07:10.333963Z",
     "iopub.status.busy": "2022-12-28T12:07:10.333543Z",
     "iopub.status.idle": "2022-12-28T12:07:10.342875Z",
     "shell.execute_reply": "2022-12-28T12:07:10.341825Z",
     "shell.execute_reply.started": "2022-12-28T12:07:10.333930Z"
    },
    "papermill": {
     "duration": 0.011284,
     "end_time": "2022-12-31T07:09:18.482976",
     "exception": false,
     "start_time": "2022-12-31T07:09:18.471692",
     "status": "completed"
    },
    "tags": []
   },
   "source": [
    "## 1. What cities are present in datasets?"
   ]
  },
  {
   "cell_type": "code",
   "execution_count": 14,
   "id": "abe5ef7b",
   "metadata": {
    "execution": {
     "iopub.execute_input": "2022-12-31T07:09:18.507929Z",
     "iopub.status.busy": "2022-12-31T07:09:18.507372Z",
     "iopub.status.idle": "2022-12-31T07:09:18.517356Z",
     "shell.execute_reply": "2022-12-31T07:09:18.515812Z"
    },
    "papermill": {
     "duration": 0.025371,
     "end_time": "2022-12-31T07:09:18.519788",
     "exception": false,
     "start_time": "2022-12-31T07:09:18.494417",
     "status": "completed"
    },
    "tags": []
   },
   "outputs": [
    {
     "data": {
      "text/plain": [
       "986"
      ]
     },
     "execution_count": 14,
     "metadata": {},
     "output_type": "execute_result"
    }
   ],
   "source": [
    "df.City.nunique()"
   ]
  },
  {
   "cell_type": "markdown",
   "id": "1f6245cf",
   "metadata": {
    "papermill": {
     "duration": 0.011811,
     "end_time": "2022-12-31T07:09:18.543831",
     "exception": false,
     "start_time": "2022-12-31T07:09:18.532020",
     "status": "completed"
    },
    "tags": []
   },
   "source": [
    "## 2. What are the different types of card types used by Indian?"
   ]
  },
  {
   "cell_type": "code",
   "execution_count": 15,
   "id": "c84ecb80",
   "metadata": {
    "execution": {
     "iopub.execute_input": "2022-12-31T07:09:18.570032Z",
     "iopub.status.busy": "2022-12-31T07:09:18.569548Z",
     "iopub.status.idle": "2022-12-31T07:09:18.577688Z",
     "shell.execute_reply": "2022-12-31T07:09:18.576648Z"
    },
    "papermill": {
     "duration": 0.024035,
     "end_time": "2022-12-31T07:09:18.579857",
     "exception": false,
     "start_time": "2022-12-31T07:09:18.555822",
     "status": "completed"
    },
    "tags": []
   },
   "outputs": [
    {
     "name": "stdout",
     "output_type": "stream",
     "text": [
      "Gold\n",
      "Platinum\n",
      "Silver\n",
      "Signature\n"
     ]
    }
   ],
   "source": [
    "for _ in list(df['Card Type'].unique()):\n",
    "    print(_)"
   ]
  },
  {
   "cell_type": "markdown",
   "id": "8118c0b9",
   "metadata": {
    "papermill": {
     "duration": 0.010951,
     "end_time": "2022-12-31T07:09:18.602093",
     "exception": false,
     "start_time": "2022-12-31T07:09:18.591142",
     "status": "completed"
    },
    "tags": []
   },
   "source": [
    "## 3. What are the different types of expenditure?"
   ]
  },
  {
   "cell_type": "code",
   "execution_count": 16,
   "id": "2877b0f1",
   "metadata": {
    "execution": {
     "iopub.execute_input": "2022-12-31T07:09:18.627621Z",
     "iopub.status.busy": "2022-12-31T07:09:18.626799Z",
     "iopub.status.idle": "2022-12-31T07:09:18.636593Z",
     "shell.execute_reply": "2022-12-31T07:09:18.635496Z"
    },
    "papermill": {
     "duration": 0.02543,
     "end_time": "2022-12-31T07:09:18.639113",
     "exception": false,
     "start_time": "2022-12-31T07:09:18.613683",
     "status": "completed"
    },
    "tags": []
   },
   "outputs": [
    {
     "name": "stdout",
     "output_type": "stream",
     "text": [
      "Bills\n",
      "Food\n",
      "Entertainment\n",
      "Grocery\n",
      "Fuel\n",
      "Travel\n"
     ]
    }
   ],
   "source": [
    "for _ in list(df['Exp Type'].unique()):\n",
    "    print(_)"
   ]
  },
  {
   "cell_type": "markdown",
   "id": "18b461b8",
   "metadata": {
    "papermill": {
     "duration": 0.012262,
     "end_time": "2022-12-31T07:09:18.662634",
     "exception": false,
     "start_time": "2022-12-31T07:09:18.650372",
     "status": "completed"
    },
    "tags": []
   },
   "source": [
    "## 4. What is the overall gender distribution?"
   ]
  },
  {
   "cell_type": "code",
   "execution_count": 17,
   "id": "838219f9",
   "metadata": {
    "execution": {
     "iopub.execute_input": "2022-12-31T07:09:18.693079Z",
     "iopub.status.busy": "2022-12-31T07:09:18.692341Z",
     "iopub.status.idle": "2022-12-31T07:09:18.697972Z",
     "shell.execute_reply": "2022-12-31T07:09:18.696761Z"
    },
    "papermill": {
     "duration": 0.023642,
     "end_time": "2022-12-31T07:09:18.700502",
     "exception": false,
     "start_time": "2022-12-31T07:09:18.676860",
     "status": "completed"
    },
    "tags": []
   },
   "outputs": [],
   "source": [
    "import matplotlib.pyplot as plt"
   ]
  },
  {
   "cell_type": "code",
   "execution_count": 18,
   "id": "1cbf20a3",
   "metadata": {
    "execution": {
     "iopub.execute_input": "2022-12-31T07:09:18.733847Z",
     "iopub.status.busy": "2022-12-31T07:09:18.733506Z",
     "iopub.status.idle": "2022-12-31T07:09:18.747480Z",
     "shell.execute_reply": "2022-12-31T07:09:18.745964Z"
    },
    "papermill": {
     "duration": 0.031992,
     "end_time": "2022-12-31T07:09:18.750681",
     "exception": false,
     "start_time": "2022-12-31T07:09:18.718689",
     "status": "completed"
    },
    "tags": []
   },
   "outputs": [
    {
     "name": "stdout",
     "output_type": "stream",
     "text": [
      "Total transactions by Females: 2,205,311,030\n",
      "Total transactions by Males: 1,869,522,343\n"
     ]
    }
   ],
   "source": [
    "m_transactions = df['Amount'][df['Gender'] == 'M'].sum()\n",
    "f_transactions = df['Amount'][df['Gender'] == 'F'].sum()\n",
    "\n",
    "print(f'Total transactions by Females: {f_transactions:,}')\n",
    "print(f'Total transactions by Males: {m_transactions:,}')"
   ]
  },
  {
   "cell_type": "code",
   "execution_count": 19,
   "id": "ad72ae72",
   "metadata": {
    "execution": {
     "iopub.execute_input": "2022-12-31T07:09:18.776102Z",
     "iopub.status.busy": "2022-12-31T07:09:18.775579Z",
     "iopub.status.idle": "2022-12-31T07:09:18.932468Z",
     "shell.execute_reply": "2022-12-31T07:09:18.930986Z"
    },
    "papermill": {
     "duration": 0.1748,
     "end_time": "2022-12-31T07:09:18.936697",
     "exception": false,
     "start_time": "2022-12-31T07:09:18.761897",
     "status": "completed"
    },
    "tags": []
   },
   "outputs": [
    {
     "data": {
      "image/png": "[encoded data removed]",
      "text/plain": [
       "<Figure size 432x288 with 1 Axes>"
      ]
     },
     "metadata": {},
     "output_type": "display_data"
    }
   ],
   "source": [
    "plt.pie([m_transactions, f_transactions], labels=['Male', 'Female'], colors=['xkcd:neon blue', 'xkcd:neon green'], radius=1.5, autopct='%1.1f%%', pctdistance=0.80)\n",
    "\n",
    "centre_circle = plt.Circle((0, 0), 0.90, fc='white')\n",
    "fig = plt.gcf()\n",
    "\n",
    "fig.gca().add_artist(centre_circle)\n",
    "\n",
    "plt.show()\n"
   ]
  },
  {
   "cell_type": "markdown",
   "id": "bff86b38",
   "metadata": {
    "papermill": {
     "duration": 0.015411,
     "end_time": "2022-12-31T07:09:18.968518",
     "exception": false,
     "start_time": "2022-12-31T07:09:18.953107",
     "status": "completed"
    },
    "tags": []
   },
   "source": [
    "## 5. What was the minimum and maximum number of transactions recorded in the day?"
   ]
  },
  {
   "cell_type": "code",
   "execution_count": 20,
   "id": "458cbfa2",
   "metadata": {
    "execution": {
     "iopub.execute_input": "2022-12-31T07:09:19.002058Z",
     "iopub.status.busy": "2022-12-31T07:09:19.001577Z",
     "iopub.status.idle": "2022-12-31T07:09:19.014751Z",
     "shell.execute_reply": "2022-12-31T07:09:19.013925Z"
    },
    "papermill": {
     "duration": 0.032169,
     "end_time": "2022-12-31T07:09:19.016786",
     "exception": false,
     "start_time": "2022-12-31T07:09:18.984617",
     "status": "completed"
    },
    "tags": []
   },
   "outputs": [
    {
     "name": "stdout",
     "output_type": "stream",
     "text": [
      "Maximum transactions recorded in a day was on 14-10-2014 and was 998077.\n",
      "While minimum was on 02-05-2014 with just 1005 transactions.\n"
     ]
    }
   ],
   "source": [
    "max_transaction = df[['Date', 'Amount']][df.Amount == df.Amount.max()]\n",
    "min_transaction = df[['Date', 'Amount']][df.Amount == df.Amount.min()]\n",
    "\n",
    "print(f\"Maximum transactions recorded in a day was on {list(max_transaction['Date'].dt.strftime('%d-%m-%Y'))[0]} and was {df.Amount.max()}.\")\n",
    "print(f\"While minimum was on {list(min_transaction['Date'].dt.strftime('%d-%m-%Y'))[0]} with just {df.Amount.min()} transactions.\")\n"
   ]
  },
  {
   "cell_type": "markdown",
   "id": "09284f4e",
   "metadata": {
    "papermill": {
     "duration": 0.013869,
     "end_time": "2022-12-31T07:09:19.042680",
     "exception": false,
     "start_time": "2022-12-31T07:09:19.028811",
     "status": "completed"
    },
    "tags": []
   },
   "source": [
    "## 6. Which year saw the maximum and the least number of transactions?\n"
   ]
  },
  {
   "cell_type": "code",
   "execution_count": 21,
   "id": "5f077c6d",
   "metadata": {
    "execution": {
     "iopub.execute_input": "2022-12-31T07:09:19.069967Z",
     "iopub.status.busy": "2022-12-31T07:09:19.068344Z",
     "iopub.status.idle": "2022-12-31T07:09:19.078661Z",
     "shell.execute_reply": "2022-12-31T07:09:19.076599Z"
    },
    "papermill": {
     "duration": 0.027089,
     "end_time": "2022-12-31T07:09:19.081621",
     "exception": false,
     "start_time": "2022-12-31T07:09:19.054532",
     "status": "completed"
    },
    "tags": []
   },
   "outputs": [],
   "source": [
    "df['Year'] = df.Date.dt.year"
   ]
  },
  {
   "cell_type": "code",
   "execution_count": 22,
   "id": "c5bac565",
   "metadata": {
    "execution": {
     "iopub.execute_input": "2022-12-31T07:09:19.109683Z",
     "iopub.status.busy": "2022-12-31T07:09:19.109082Z",
     "iopub.status.idle": "2022-12-31T07:09:19.265406Z",
     "shell.execute_reply": "2022-12-31T07:09:19.264576Z"
    },
    "papermill": {
     "duration": 0.174598,
     "end_time": "2022-12-31T07:09:19.267973",
     "exception": false,
     "start_time": "2022-12-31T07:09:19.093375",
     "status": "completed"
    },
    "tags": []
   },
   "outputs": [
    {
     "data": {
      "image/png": "[encoded data removed]",
      "text/plain": [
       "<Figure size 432x360 with 1 Axes>"
      ]
     },
     "metadata": {
      "needs_background": "light"
     },
     "output_type": "display_data"
    }
   ],
   "source": [
    "df.groupby('Year').sum().plot(kind='bar', figsize=(6, 5), fontsize=12, label='Amount')\n",
    "plt.title(\"Transactions per year\")\n",
    "plt.show()"
   ]
  },
  {
   "cell_type": "code",
   "execution_count": 23,
   "id": "e466c031",
   "metadata": {
    "execution": {
     "iopub.execute_input": "2022-12-31T07:09:19.298047Z",
     "iopub.status.busy": "2022-12-31T07:09:19.297366Z",
     "iopub.status.idle": "2022-12-31T07:09:19.314571Z",
     "shell.execute_reply": "2022-12-31T07:09:19.313123Z"
    },
    "papermill": {
     "duration": 0.035036,
     "end_time": "2022-12-31T07:09:19.318016",
     "exception": false,
     "start_time": "2022-12-31T07:09:19.282980",
     "status": "completed"
    },
    "tags": []
   },
   "outputs": [
    {
     "name": "stdout",
     "output_type": "stream",
     "text": [
      "Total transactions in 2013: 3927\n",
      "Months count in 2013: 3\n"
     ]
    }
   ],
   "source": [
    "transactions_2013_count = df.Date.loc[(df.Date >= '2013-01-01') & (df.Date < '2014-01-01')].count()\n",
    "months_2013_count = df.Date.dt.month_name().loc[(df.Date >= '2013-01-01') & (df.Date < '2014-01-01')].nunique()\n",
    "\n",
    "print(f\"Total transactions in 2013: {transactions_2013_count}\")\n",
    "print(f\"Months count in 2013: {months_2013_count}\")"
   ]
  },
  {
   "cell_type": "code",
   "execution_count": 24,
   "id": "6aa175b8",
   "metadata": {
    "execution": {
     "iopub.execute_input": "2022-12-31T07:09:19.347475Z",
     "iopub.status.busy": "2022-12-31T07:09:19.347026Z",
     "iopub.status.idle": "2022-12-31T07:09:19.367838Z",
     "shell.execute_reply": "2022-12-31T07:09:19.365321Z"
    },
    "papermill": {
     "duration": 0.039558,
     "end_time": "2022-12-31T07:09:19.371506",
     "exception": false,
     "start_time": "2022-12-31T07:09:19.331948",
     "status": "completed"
    },
    "tags": []
   },
   "outputs": [
    {
     "name": "stdout",
     "output_type": "stream",
     "text": [
      "Total transactions in 2014: 15791\n",
      "Months count in 2014: 12\n"
     ]
    }
   ],
   "source": [
    "transactions_2014_count = df.Date.loc[(df.Date > '2013-12-31') & (df.Date < '2015-01-01')].count()\n",
    "months_2014_count = df.Date.dt.month_name().loc[(df.Date > '2013-12-31') & (df.Date < '2015-01-01')].nunique()\n",
    "\n",
    "print(f\"Total transactions in 2014: {transactions_2014_count}\")\n",
    "print(f\"Months count in 2014: {months_2014_count}\")"
   ]
  },
  {
   "cell_type": "code",
   "execution_count": 25,
   "id": "71fe1fcb",
   "metadata": {
    "execution": {
     "iopub.execute_input": "2022-12-31T07:09:19.399466Z",
     "iopub.status.busy": "2022-12-31T07:09:19.398974Z",
     "iopub.status.idle": "2022-12-31T07:09:19.418486Z",
     "shell.execute_reply": "2022-12-31T07:09:19.415925Z"
    },
    "papermill": {
     "duration": 0.037061,
     "end_time": "2022-12-31T07:09:19.420887",
     "exception": false,
     "start_time": "2022-12-31T07:09:19.383826",
     "status": "completed"
    },
    "tags": []
   },
   "outputs": [
    {
     "name": "stdout",
     "output_type": "stream",
     "text": [
      "Total transactions in 2015: 6334\n",
      "Months count in 2015: 5\n"
     ]
    }
   ],
   "source": [
    "transactions_2015_count = df.Date.loc[(df.Date > '2014-12-31')].count()\n",
    "months_2015_count = df.Date.dt.month_name().loc[(df.Date > '2014-12-31')].nunique()\n",
    "\n",
    "print(f\"Total transactions in 2015: {transactions_2015_count}\")\n",
    "print(f\"Months count in 2015: {months_2015_count}\")"
   ]
  },
  {
   "cell_type": "markdown",
   "id": "5beda7fd",
   "metadata": {
    "execution": {
     "iopub.execute_input": "2022-12-30T07:55:14.238053Z",
     "iopub.status.busy": "2022-12-30T07:55:14.237441Z",
     "iopub.status.idle": "2022-12-30T07:55:14.270927Z",
     "shell.execute_reply": "2022-12-30T07:55:14.269751Z",
     "shell.execute_reply.started": "2022-12-30T07:55:14.237986Z"
    },
    "papermill": {
     "duration": 0.011499,
     "end_time": "2022-12-31T07:09:19.444193",
     "exception": false,
     "start_time": "2022-12-31T07:09:19.432694",
     "status": "completed"
    },
    "tags": []
   },
   "source": [
    "*Important thing to notice here - we don't have complete records for year 2013 and 2015.*"
   ]
  },
  {
   "cell_type": "markdown",
   "id": "bb6a84c4",
   "metadata": {
    "execution": {
     "iopub.execute_input": "2022-12-30T09:25:16.054312Z",
     "iopub.status.busy": "2022-12-30T09:25:16.053806Z",
     "iopub.status.idle": "2022-12-30T09:25:16.060614Z",
     "shell.execute_reply": "2022-12-30T09:25:16.059344Z",
     "shell.execute_reply.started": "2022-12-30T09:25:16.054273Z"
    },
    "papermill": {
     "duration": 0.011836,
     "end_time": "2022-12-31T07:09:19.468164",
     "exception": false,
     "start_time": "2022-12-31T07:09:19.456328",
     "status": "completed"
    },
    "tags": []
   },
   "source": [
    "## 7. Most used type of card by gender."
   ]
  },
  {
   "cell_type": "code",
   "execution_count": 26,
   "id": "1d834f8f",
   "metadata": {
    "execution": {
     "iopub.execute_input": "2022-12-31T07:09:19.493158Z",
     "iopub.status.busy": "2022-12-31T07:09:19.492632Z",
     "iopub.status.idle": "2022-12-31T07:09:19.645860Z",
     "shell.execute_reply": "2022-12-31T07:09:19.644741Z"
    },
    "papermill": {
     "duration": 0.169155,
     "end_time": "2022-12-31T07:09:19.648716",
     "exception": false,
     "start_time": "2022-12-31T07:09:19.479561",
     "status": "completed"
    },
    "tags": []
   },
   "outputs": [
    {
     "data": {
      "image/png": "[encoded data removed]",
      "text/plain": [
       "<Figure size 432x288 with 1 Axes>"
      ]
     },
     "metadata": {
      "needs_background": "light"
     },
     "output_type": "display_data"
    }
   ],
   "source": [
    "df.groupby(['Card Type']).sum()['Amount'].plot(kind='bar', ylim=(0.9e9, 1.1e9))\n",
    "plt.title('Overall Credit Card Type Use')\n",
    "plt.show()"
   ]
  },
  {
   "cell_type": "code",
   "execution_count": 27,
   "id": "b82706c5",
   "metadata": {
    "execution": {
     "iopub.execute_input": "2022-12-31T07:09:19.675508Z",
     "iopub.status.busy": "2022-12-31T07:09:19.674716Z",
     "iopub.status.idle": "2022-12-31T07:09:19.826477Z",
     "shell.execute_reply": "2022-12-31T07:09:19.825578Z"
    },
    "papermill": {
     "duration": 0.167989,
     "end_time": "2022-12-31T07:09:19.828778",
     "exception": false,
     "start_time": "2022-12-31T07:09:19.660789",
     "status": "completed"
    },
    "tags": []
   },
   "outputs": [
    {
     "data": {
      "image/png": "[encoded data removed]",
      "text/plain": [
       "<Figure size 432x288 with 1 Axes>"
      ]
     },
     "metadata": {
      "needs_background": "light"
     },
     "output_type": "display_data"
    }
   ],
   "source": [
    "df[df.Gender == 'F'].groupby(['Card Type']).sum()['Amount'].plot(kind='bar',color='xkcd:neon green' , ylim=(5e8,6.2e8))\n",
    "\n",
    "plt.title('Most used Card type by Females')\n",
    "plt.show()"
   ]
  },
  {
   "cell_type": "code",
   "execution_count": 28,
   "id": "ca08dd36",
   "metadata": {
    "execution": {
     "iopub.execute_input": "2022-12-31T07:09:19.855494Z",
     "iopub.status.busy": "2022-12-31T07:09:19.854774Z",
     "iopub.status.idle": "2022-12-31T07:09:19.998110Z",
     "shell.execute_reply": "2022-12-31T07:09:19.997162Z"
    },
    "papermill": {
     "duration": 0.159482,
     "end_time": "2022-12-31T07:09:20.000446",
     "exception": false,
     "start_time": "2022-12-31T07:09:19.840964",
     "status": "completed"
    },
    "tags": []
   },
   "outputs": [
    {
     "data": {
      "image/png": "[encoded data removed]",
      "text/plain": [
       "<Figure size 432x288 with 1 Axes>"
      ]
     },
     "metadata": {
      "needs_background": "light"
     },
     "output_type": "display_data"
    }
   ],
   "source": [
    "df[df.Gender == 'M'].groupby(['Card Type']).sum()['Amount'].plot(kind='bar', color='xkcd:neon blue', ylim=(4.5e8,4.8e8))\n",
    "\n",
    "plt.title('Most used Card type by Males')\n",
    "plt.show()"
   ]
  },
  {
   "cell_type": "markdown",
   "id": "e08da8b6",
   "metadata": {
    "papermill": {
     "duration": 0.012274,
     "end_time": "2022-12-31T07:09:20.026979",
     "exception": false,
     "start_time": "2022-12-31T07:09:20.014705",
     "status": "completed"
    },
    "tags": []
   },
   "source": [
    "## 8. What is the month wise transactions in 2014 for males and females?"
   ]
  },
  {
   "cell_type": "code",
   "execution_count": 29,
   "id": "636fce53",
   "metadata": {
    "execution": {
     "iopub.execute_input": "2022-12-31T07:09:20.056359Z",
     "iopub.status.busy": "2022-12-31T07:09:20.055661Z",
     "iopub.status.idle": "2022-12-31T07:09:20.060145Z",
     "shell.execute_reply": "2022-12-31T07:09:20.059475Z"
    },
    "papermill": {
     "duration": 0.022174,
     "end_time": "2022-12-31T07:09:20.062879",
     "exception": false,
     "start_time": "2022-12-31T07:09:20.040705",
     "status": "completed"
    },
    "tags": []
   },
   "outputs": [],
   "source": [
    "month_labels = ['January', 'Febuary', 'March', 'April', 'May', 'June', 'July', 'August', 'September', 'October', 'November', 'December']"
   ]
  },
  {
   "cell_type": "code",
   "execution_count": 30,
   "id": "82abc951",
   "metadata": {
    "execution": {
     "iopub.execute_input": "2022-12-31T07:09:20.090119Z",
     "iopub.status.busy": "2022-12-31T07:09:20.089602Z",
     "iopub.status.idle": "2022-12-31T07:09:20.484154Z",
     "shell.execute_reply": "2022-12-31T07:09:20.483034Z"
    },
    "papermill": {
     "duration": 0.410828,
     "end_time": "2022-12-31T07:09:20.486624",
     "exception": false,
     "start_time": "2022-12-31T07:09:20.075796",
     "status": "completed"
    },
    "tags": []
   },
   "outputs": [
    {
     "data": {
      "image/png": "[encoded data removed]",
      "text/plain": [
       "<Figure size 432x288 with 1 Axes>"
      ]
     },
     "metadata": {
      "needs_background": "light"
     },
     "output_type": "display_data"
    }
   ],
   "source": [
    "import warnings\n",
    "warnings.filterwarnings('ignore')\n",
    "\n",
    "\n",
    "df[df.Year == 2014][df.Gender == 'F'].groupby(df.Date.dt.month).sum().Amount.plot(color='xkcd:neon green', xlim=(0, 13), linewidth=2.5)\n",
    "df[df.Year == 2014][df.Gender == 'M'].groupby(df.Date.dt.month).sum().Amount.plot(color='xkcd:neon blue', xlim=(0, 13), linewidth=2.5)\n",
    "plt.xlabel('Months')\n",
    "plt.xticks(range(1,13), labels=month_labels, rotation='vertical')\n",
    "plt.title('2014 Transaction by months')\n",
    "plt.legend(['Female', 'Male'])\n",
    "plt.show()"
   ]
  },
  {
   "cell_type": "markdown",
   "id": "1bf2d3e2",
   "metadata": {
    "papermill": {
     "duration": 0.012212,
     "end_time": "2022-12-31T07:09:20.511747",
     "exception": false,
     "start_time": "2022-12-31T07:09:20.499535",
     "status": "completed"
    },
    "tags": []
   },
   "source": [
    "## 9. In all years, what was the distribution of transactions by expense type by male and female. "
   ]
  },
  {
   "cell_type": "code",
   "execution_count": 31,
   "id": "e5447736",
   "metadata": {
    "execution": {
     "iopub.execute_input": "2022-12-31T07:09:20.539988Z",
     "iopub.status.busy": "2022-12-31T07:09:20.538495Z",
     "iopub.status.idle": "2022-12-31T07:09:21.327060Z",
     "shell.execute_reply": "2022-12-31T07:09:21.325768Z"
    },
    "papermill": {
     "duration": 0.805154,
     "end_time": "2022-12-31T07:09:21.329988",
     "exception": false,
     "start_time": "2022-12-31T07:09:20.524834",
     "status": "completed"
    },
    "tags": []
   },
   "outputs": [
    {
     "data": {
      "image/png": "[encoded data removed]",
      "text/plain": [
       "<Figure size 1080x360 with 6 Axes>"
      ]
     },
     "metadata": {
      "needs_background": "light"
     },
     "output_type": "display_data"
    }
   ],
   "source": [
    "fig, ax = plt.subplots(2, 3, figsize=(15, 5))\n",
    "\n",
    "\n",
    "df[df.Year == 2013][df.Gender == 'M'].groupby('Exp Type').sum().Amount.plot(kind='barh', ax=ax[0,0], color='xkcd:neon blue', width=0.4, title='2013: Men', xlim=(0,9e7))\n",
    "df[df.Year == 2014][df.Gender == 'M'].groupby('Exp Type').sum().Amount.plot(kind='barh', ax=ax[0,1], color='xkcd:neon blue', width=0.4, title='2014: Men', xlim=(0,5e8))\n",
    "df[df.Year == 2015][df.Gender == 'M'].groupby('Exp Type').sum().Amount.plot(kind='barh', ax=ax[0,2], color='xkcd:neon blue', width=0.4, title='2015: Men', xlim=(0,5e8))\n",
    "\n",
    "df[df.Year == 2013][df.Gender == 'F'].groupby('Exp Type').sum().Amount.plot(kind='barh', ax=ax[1,0], color='xkcd:neon green', width=0.4, title='2013: Women',xlim=(0,9e7))\n",
    "df[df.Year == 2014][df.Gender == 'F'].groupby('Exp Type').sum().Amount.plot(kind='barh', ax=ax[1,1], color='xkcd:neon green', width=0.4, title='2014: Women', xlim=(0,5e8))\n",
    "df[df.Year == 2015][df.Gender == 'F'].groupby('Exp Type').sum().Amount.plot(kind='barh', ax=ax[1,2], color='xkcd:neon green', width=0.4, title='2015: Women', xlim=(0,5e8))\n",
    "\n",
    "fig.tight_layout()"
   ]
  },
  {
   "cell_type": "markdown",
   "id": "de0546d0",
   "metadata": {
    "papermill": {
     "duration": 0.012337,
     "end_time": "2022-12-31T07:09:21.355527",
     "exception": false,
     "start_time": "2022-12-31T07:09:21.343190",
     "status": "completed"
    },
    "tags": []
   },
   "source": [
    "# Conclusions/Insights\n",
    "- There are total of 986 cities of data.\n",
    "- Platinum, Gold, Silver & Signature are 4 different types of credit cards used.\n",
    "- Bills, Food, Entertainment, Grocery, Fuel, Travel are the types of expenses done.\n",
    "- Most women used Silver credit card while Platinum card was used by maximum number of men.\n",
    "- The overall credit card usage of Women were more than Men in 2014. (Female: 2,205,311,030; Men: 1,869,522,343)\n",
    "- Maximum transactions recorded in a day was on 14-10-2014 and was 998077. While minimum was on 02-05-2014 with just 1005 transactions.\n",
    "- February and June of 2014 saw the least number of female credit card users and months April and November saw the most.\n",
    "- In the month of May same year, there were least number of male credit card users and in August the number was maximum. \n",
    "- Expense-wise, Women population has spend more overall. \n",
    "- Transactions on Travel expense were the least among all other types. Women spent most on bills and food. While in mens's spendings were pretty balanced in all 3 years."
   ]
  }
 ],
 "metadata": {
  "kernelspec": {
   "display_name": "Python 3",
   "language": "python",
   "name": "python3"
  },
  "language_info": {
   "codemirror_mode": {
    "name": "ipython",
    "version": 3
   },
   "file_extension": ".py",
   "mimetype": "text/x-python",
   "name": "python",
   "nbconvert_exporter": "python",
   "pygments_lexer": "ipython3",
   "version": "3.7.12"
  },
  "papermill": {
   "default_parameters": {},
   "duration": 12.692545,
   "end_time": "2022-12-31T07:09:22.390618",
   "environment_variables": {},
   "exception": null,
   "input_path": "__notebook__.ipynb",
   "output_path": "__notebook__.ipynb",
   "parameters": {},
   "start_time": "2022-12-31T07:09:09.698073",
   "version": "2.3.4"
  }
 },
 "nbformat": 4,
 "nbformat_minor": 5
}
